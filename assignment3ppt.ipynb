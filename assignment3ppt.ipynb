{
 "cells": [
  {
   "cell_type": "markdown",
   "id": "7fafd4cf-bf4c-4cb4-8d8f-0d6d117570d5",
   "metadata": {},
   "source": [
    "\n",
    "1. Scenario: A company wants to analyze the sales performance of its products in different regions. They have collected the following data:\n",
    "   Region A: [10, 15, 12, 8, 14]\n",
    "   Region B: [18, 20, 16, 22, 25]\n",
    "   Calculate the mean sales for each region."
   ]
  },
  {
   "cell_type": "code",
   "execution_count": 1,
   "id": "783c1fe5-913a-4958-8ccc-67c6752d51f6",
   "metadata": {},
   "outputs": [],
   "source": [
    "import numpy as np"
   ]
  },
  {
   "cell_type": "code",
   "execution_count": 8,
   "id": "6b588d97-aae8-47c0-a381-32daad569761",
   "metadata": {},
   "outputs": [],
   "source": [
    "x = [10, 15, 12, 8, 14]\n",
    "y = [18, 20, 16, 22, 25]"
   ]
  },
  {
   "cell_type": "code",
   "execution_count": 10,
   "id": "bcb3b90a-c293-40b3-bf53-cbe6f957d2e4",
   "metadata": {},
   "outputs": [
    {
     "data": {
      "text/plain": [
       "11.8"
      ]
     },
     "execution_count": 10,
     "metadata": {},
     "output_type": "execute_result"
    }
   ],
   "source": [
    "np.mean(x)"
   ]
  },
  {
   "cell_type": "code",
   "execution_count": 11,
   "id": "7af792b1-bffd-4c8d-8c0a-06a65a7e96cd",
   "metadata": {},
   "outputs": [
    {
     "data": {
      "text/plain": [
       "20.2"
      ]
     },
     "execution_count": 11,
     "metadata": {},
     "output_type": "execute_result"
    }
   ],
   "source": [
    "np.mean(y)"
   ]
  },
  {
   "cell_type": "markdown",
   "id": "c43ffc03-1bcf-4bf7-afe9-d4c008a2ad39",
   "metadata": {},
   "source": [
    "2. Scenario: A survey is conducted to measure customer satisfaction on a scale of 1 to 5. The data collected is as follows:\n",
    "   [4, 5, 2, 3, 5, 4, 3, 2, 4, 5]\n",
    "   Calculate the mode of the survey responses.\n"
   ]
  },
  {
   "cell_type": "code",
   "execution_count": 12,
   "id": "dede50ba-2e4b-4f25-8c7f-ef3aedbf80c7",
   "metadata": {},
   "outputs": [],
   "source": [
    "x=[4, 5, 2, 3, 5, 4, 3, 2, 4, 5]"
   ]
  },
  {
   "cell_type": "code",
   "execution_count": null,
   "id": "9b40371a-a011-49d6-b0ce-1f8d464418f5",
   "metadata": {},
   "outputs": [],
   "source": [
    "mode=most frequently no. in the series is 4 "
   ]
  },
  {
   "cell_type": "markdown",
   "id": "7ff048ee-74a8-44ee-944a-d631cc16fe0a",
   "metadata": {},
   "source": [
    "3. Scenario: A company wants to compare the salaries of two departments. The salary data for Department A and Department B are as follows:\n",
    "   Department A: [5000, 6000, 5500, 7000]\n",
    "   Department B: [4500, 5500, 5800, 6000, 5200]\n",
    "   Calculate the median salary for each department.\n"
   ]
  },
  {
   "cell_type": "code",
   "execution_count": 14,
   "id": "0672b652-6317-4641-a0e3-7c3e2ef9efd0",
   "metadata": {},
   "outputs": [],
   "source": [
    "import numpy as np"
   ]
  },
  {
   "cell_type": "code",
   "execution_count": 15,
   "id": "31ffcc17-8f57-4224-b3f6-4354f2555b5d",
   "metadata": {},
   "outputs": [],
   "source": [
    "x=[5000, 6000, 5500, 7000] \n",
    "y=[4500, 5500, 5800, 6000, 5200]"
   ]
  },
  {
   "cell_type": "code",
   "execution_count": 16,
   "id": "03ae6bfd-5217-43ee-9b85-7c8d6dcf8d88",
   "metadata": {},
   "outputs": [
    {
     "data": {
      "text/plain": [
       "5750.0"
      ]
     },
     "execution_count": 16,
     "metadata": {},
     "output_type": "execute_result"
    }
   ],
   "source": [
    "np.median(x)"
   ]
  },
  {
   "cell_type": "code",
   "execution_count": 17,
   "id": "a3481a15-f961-4cbf-84be-00b41cd7469e",
   "metadata": {},
   "outputs": [
    {
     "data": {
      "text/plain": [
       "5500.0"
      ]
     },
     "execution_count": 17,
     "metadata": {},
     "output_type": "execute_result"
    }
   ],
   "source": [
    "np.median(y)"
   ]
  },
  {
   "cell_type": "markdown",
   "id": "d506f654-27aa-4481-a776-137e504cf97c",
   "metadata": {},
   "source": [
    "4. Scenario: A data analyst wants to determine the variability in the daily stock prices of a company. The data collected is as follows:\n",
    "   [25.5, 24.8, 26.1, 25.3, 24.9]\n",
    "   Calculate the range of the stock prices.\n"
   ]
  },
  {
   "cell_type": "code",
   "execution_count": null,
   "id": "460b93bf-f4f7-48b3-970a-3622ea36f466",
   "metadata": {},
   "outputs": [],
   "source": [
    "x=[25.5, 24.8, 26.1, 25.3, 24.9]\n",
    "range=highest value-lowest value\n",
    "     =26.1-24.8\n",
    "     =1.3"
   ]
  },
  {
   "cell_type": "markdown",
   "id": "d288abbb-3607-4e37-9116-2f270ff67961",
   "metadata": {},
   "source": [
    "5. Scenario: A study is conducted to compare the performance of two different teaching methods. The test scores of the students in each group are as follows:\n",
    "   Group A: [85, 90, 92, 88, 91]\n",
    "   Group B: [82, 88, 90, 86, 87]\n",
    "   Perform a t-test to determine if there is a significant difference in the mean scores between the two groups.\n"
   ]
  },
  {
   "cell_type": "code",
   "execution_count": null,
   "id": "b47cfc74-0cd8-478b-a4be-f6508914db0a",
   "metadata": {},
   "outputs": [],
   "source": [
    "------------------"
   ]
  },
  {
   "cell_type": "code",
   "execution_count": null,
   "id": "5c105459-a289-45ca-8baa-9a02c9aad61d",
   "metadata": {},
   "outputs": [],
   "source": []
  },
  {
   "cell_type": "markdown",
   "id": "5dd78723-f82b-4d30-842b-a3d4a39ceba8",
   "metadata": {},
   "source": [
    "6. Scenario: A company wants to analyze the relationship between advertising expenditure and sales. The data collected is as follows:\n",
    "   Advertising Expenditure (in thousands): [10, 15, 12, 8, 14]\n",
    "   Sales (in thousands): [25, 30, 28, 20, 26]\n",
    "   Calculate the correlation coefficient between advertising expenditure and sales.\n"
   ]
  },
  {
   "cell_type": "code",
   "execution_count": null,
   "id": "fd29b280-0306-41bf-b3a5-cb6c44b8ca45",
   "metadata": {},
   "outputs": [],
   "source": [
    "r = (Σ((x - bar(x)) * (y - bar(y)) / (sqrt(sum((x - bar(x))²) * sum((y - bar(x))²))\n",
    "\n",
    "Where:\n",
    "\n",
    "x and y are the values of advertising expenditure and sales, respectively.\n",
    "x̄ and ȳ are the means of advertising expenditure and sales, respectively.\n",
    "The given data is:\n",
    "Advertising Expenditure (in thousands): [10, 15, 12, 8, 14]\n",
    "Sales (in thousands): [25, 30, 28, 20, 26]\n",
    "                                      \n",
    "Step 1: Calculate the means (bar(x) and bar(y)) of the two variables:\n",
    "bar(x) = (10 + 15 + 12 + 8 + 14) / 5 = 11.8\n",
    "bar(y)= (25 + 30 + 28 + 20 + 26) / 5 = 25.8\n",
    "\n",
    "Step 2: Calculate the deviations from the means ((x - bar(x)) and (y - bar(y))):\n",
    "(x - bar(x)): [-1.8, 3.2, 0.2, -3.8, 2.2]\n",
    "(y - bar(y)): [-0.8, 4.2, 2.2, -5.8, 0.2]\n",
    "\n",
    "Step 3: Calculate the sum of the products of the deviations:\n",
    "Σ((x - bar(x) * (y - bar(y))) = (-1.8 * -0.8) + (3.2 * 4.2) + (0.2 * 2.2) + (-3.8 * -5.8) + (2.2 * 0.2) = 47.24\n",
    "\n",
    "Step 4: Calculate the sum of the squared deviations:\n",
    "Σ((x - bar(x)²) = (-1.8)^2 + 3.2^2 + 0.2^2 + (-3.8)^2 + 2.2^2 = 38.8\n",
    "Σ((y - bar(y)²) = (-0.8)^2 + 4.2^2 + 2.2^2 + (-5.8)^2 + 0.2^2 = 82.8\n",
    "\n",
    "Step 5: Calculate the square root of the product of the squared deviations:\n",
    "sqrt(sum((x - bar(x)^2) * sum((y - bar(y))^2)) = sqrt(38.8 * 82.8) = sqrt(3207.84) = 56.64\n",
    "\n",
    "Step 6: Calculate the correlation coefficient (r):\n",
    "r =(sum((x - bar(x)) * (y - bar(y)) / (sqrt(sum((x - bar(x))^2) * sum((y - bar(x)^2))\n",
    "= 47.24 / 56.64 \n",
    "= 0.834                                      "
   ]
  },
  {
   "cell_type": "markdown",
   "id": "d50fc153-918b-4fee-835b-c6c63672d6c3",
   "metadata": {},
   "source": [
    "7. Scenario: A survey is conducted to measure the heights of a group of people. The data collected is as follows:\n",
    "   [160, 170, 165, 155, 175, 180, 170]\n",
    "   Calculate the standard deviation of the heights.\n"
   ]
  },
  {
   "cell_type": "markdown",
   "id": "127d1801-5b65-4fbc-a2ca-25bea2d8659f",
   "metadata": {},
   "source": [
    "Mean = (160 + 170 + 165 + 155 + 175 + 180 + 170) / 7 = 166.43"
   ]
  },
  {
   "cell_type": "markdown",
   "id": "8888b8df-a315-4b98-98dc-7fb9a46cce59",
   "metadata": {},
   "source": [
    "The deviations from the mean for each height are:\n",
    "(160 - 166.43) = -6.43\n",
    "(170 - 166.43) = 3.57\n",
    "(165 - 166.43) = -1.43\n",
    "(155 - 166.43) = -11.43\n",
    "(175 - 166.43) = 8.57\n",
    "(180 - 166.43) = 13.57\n",
    "(170 - 166.43) = 3.57"
   ]
  },
  {
   "cell_type": "code",
   "execution_count": null,
   "id": "ae864554-ae66-4aba-b801-9effdfdada36",
   "metadata": {},
   "outputs": [],
   "source": [
    "The squared deviations for each height are:\n",
    "sqrt(-6.43) = 41.3449\n",
    "sqrt(3.57) = 12.7449\n",
    "sqrt(-1.43) = 2.0449\n",
    "sqrt(-11.43) = 130.8049\n",
    "sqrt(8.57) = 73.4449\n",
    "sqrt(13.57) = 184.4649\n",
    "sqrt(3.57) = 12.7449"
   ]
  },
  {
   "cell_type": "code",
   "execution_count": null,
   "id": "75cd7acc-84c4-4a64-a656-08eeff074a8e",
   "metadata": {},
   "outputs": [],
   "source": [
    "Average of Squared Deviations = (41.3449 + 12.7449 + 2.0449 + 130.8049 + 73.4449 + 184.4649 + 12.7449) / 7 = 65.90"
   ]
  },
  {
   "cell_type": "code",
   "execution_count": null,
   "id": "a5e99536-19ba-413b-8473-007b6f7e98f9",
   "metadata": {},
   "outputs": [],
   "source": [
    "Standard Deviation = sqrt(Average of Squared Deviations) = sqrt(65.90)\n",
    "                   = 8.13"
   ]
  },
  {
   "cell_type": "markdown",
   "id": "9f1649dd-2e2b-4eaf-8827-5d25982b9cbb",
   "metadata": {},
   "source": [
    "8. Scenario: A company wants to analyze the relationship between employee tenure and job satisfaction. The data collected is as follows:\n",
    "   Employee Tenure (in years): [2, 3, 5, 4, 6, 2, 4]\n",
    "   Job Satisfaction (on a scale of 1 to 10): [7, 8, 6, 9, 5, 7, 6]\n",
    "   Perform a linear regression analysis to predict job satisfaction based on employee tenure.\n"
   ]
  },
  {
   "cell_type": "code",
   "execution_count": 1,
   "id": "9bd4c5ac-1e0e-4636-88bf-c086edb68417",
   "metadata": {},
   "outputs": [
    {
     "name": "stdout",
     "output_type": "stream",
     "text": [
      "Slope (Coefficient): -0.4680851063829786\n",
      "Intercept: 8.595744680851062\n",
      "Predicted job satisfaction: 6.957446808510637\n"
     ]
    }
   ],
   "source": [
    "import numpy as np\n",
    "from sklearn.linear_model import LinearRegression\n",
    "\n",
    "tenure = np.array([2, 3, 5, 4, 6, 2, 4]).reshape(-1, 1)\n",
    "\n",
    "satisfaction = np.array([7, 8, 6, 9, 5, 7, 6])\n",
    "\n",
    "model = LinearRegression()\n",
    "\n",
    "model.fit(tenure, satisfaction)\n",
    "\n",
    "slope = model.coef_[0]\n",
    "intercept = model.intercept_\n",
    "\n",
    "print(\"Slope (Coefficient):\", slope)\n",
    "print(\"Intercept:\", intercept)\n",
    "\n",
    "new_tenure = np.array([[3.5]]) \n",
    "predicted_satisfaction = model.predict(new_tenure)\n",
    "\n",
    "print(\"Predicted job satisfaction:\", predicted_satisfaction[0])"
   ]
  },
  {
   "cell_type": "markdown",
   "id": "86f27694-7841-4704-ad67-bc49ff04fd4a",
   "metadata": {},
   "source": [
    "9. Scenario: A study is conducted to compare the effectiveness of two different medications. The recovery times of the patients in each group are as follows:\n",
    "   Medication A: [10, 12, 14, 11, 13]\n",
    "   Medication B: [15, 17, 16, 14, 18]\n",
    "   Perform an analysis of variance (ANOVA) to determine if there is a significant difference in the mean recovery times between the two medications.\n"
   ]
  },
  {
   "cell_type": "code",
   "execution_count": 5,
   "id": "40f78ec0-e0c5-446c-a44f-3685bfe185b3",
   "metadata": {},
   "outputs": [
    {
     "name": "stdout",
     "output_type": "stream",
     "text": [
      "F-value: 16.0\n",
      "p-value: 0.003949772803445326\n"
     ]
    }
   ],
   "source": [
    "import scipy.stats as stats\n",
    "\n",
    "medication_A = [10, 12, 14, 11, 13]\n",
    "\n",
    "medication_B = [15, 17, 16, 14, 18]\n",
    "\n",
    "f_value, p_value = stats.f_oneway(medication_A, medication_B)\n",
    "\n",
    "print(\"F-value:\", f_value)\n",
    "print(\"p-value:\", p_value)"
   ]
  },
  {
   "cell_type": "markdown",
   "id": "23393014-84a1-47a4-a6a6-9514d2995f93",
   "metadata": {},
   "source": [
    "\n",
    "10. Scenario: A company wants to analyze customer feedback ratings on a scale of 1 to 10. The data collected is\n",
    "\n",
    " as follows:\n",
    "    [8, 9, 7, 6, 8, 10, 9, 8, 7, 8]\n",
    "    Calculate the 75th percentile of the feedback ratings.\n"
   ]
  },
  {
   "cell_type": "code",
   "execution_count": 6,
   "id": "69534111-2e40-4ddc-8c2f-b14690b5676e",
   "metadata": {},
   "outputs": [
    {
     "name": "stdout",
     "output_type": "stream",
     "text": [
      "75th percentile: 8.75\n"
     ]
    }
   ],
   "source": [
    "import numpy as np\n",
    "\n",
    "feedback_ratings = [8, 9, 7, 6, 8, 10, 9, 8, 7, 8]\n",
    "\n",
    "percentile_75 = np.percentile(feedback_ratings, 75)\n",
    "\n",
    "print(\"75th percentile:\", percentile_75)"
   ]
  },
  {
   "cell_type": "markdown",
   "id": "33271134-7cf2-4648-af49-c0cef7efe0b2",
   "metadata": {},
   "source": [
    "11. Scenario: A quality control department wants to test the weight consistency of a product. The weights of a sample of products are as follows:\n",
    "    [10.2, 9.8, 10.0, 10.5, 10.3, 10.1]\n",
    "    Perform a hypothesis test to determine if the mean weight differs significantly from 10 grams.\n"
   ]
  },
  {
   "cell_type": "code",
   "execution_count": 7,
   "id": "4582f152-9a71-4030-a324-bc21e68ab36d",
   "metadata": {},
   "outputs": [
    {
     "name": "stdout",
     "output_type": "stream",
     "text": [
      "T-statistic: 1.5126584522688367\n",
      "p-value: 0.19077595151110102\n"
     ]
    }
   ],
   "source": [
    "import scipy.stats as stats\n",
    "\n",
    "weights = [10.2, 9.8, 10.0, 10.5, 10.3, 10.1]\n",
    "\n",
    "t_statistic, p_value = stats.ttest_1samp(weights, 10)\n",
    "\n",
    "print(\"T-statistic:\", t_statistic)\n",
    "print(\"p-value:\", p_value)"
   ]
  },
  {
   "cell_type": "markdown",
   "id": "3b15781e-b2a9-476a-a14c-71f82a0677dc",
   "metadata": {},
   "source": [
    "12. Scenario: A company wants to analyze the click-through rates of two different website designs. The number of clicks for each design is as follows:\n",
    "    Design A: [100, 120, 110, 90, 95]\n",
    "    Design B: [80, 85, 90, 95, 100]\n",
    "    Perform a chi-square test to determine if there is a significant difference in the click-through rates between the two designs.\n"
   ]
  },
  {
   "cell_type": "code",
   "execution_count": 9,
   "id": "40d909fe-a31e-4f29-bf5f-a25e4c8905e5",
   "metadata": {},
   "outputs": [
    {
     "ename": "ValueError",
     "evalue": "not enough values to unpack (expected 4, got 2)",
     "output_type": "error",
     "traceback": [
      "\u001b[0;31m---------------------------------------------------------------------------\u001b[0m",
      "\u001b[0;31mValueError\u001b[0m                                Traceback (most recent call last)",
      "Cell \u001b[0;32mIn[9], line 8\u001b[0m\n\u001b[1;32m      4\u001b[0m design_B \u001b[38;5;241m=\u001b[39m [\u001b[38;5;241m80\u001b[39m, \u001b[38;5;241m85\u001b[39m, \u001b[38;5;241m90\u001b[39m, \u001b[38;5;241m95\u001b[39m, \u001b[38;5;241m100\u001b[39m]\n\u001b[1;32m      6\u001b[0m observed \u001b[38;5;241m=\u001b[39m [design_A, design_B]\n\u001b[0;32m----> 8\u001b[0m chi2_statistic, p_value, dof, expected \u001b[38;5;241m=\u001b[39m stats\u001b[38;5;241m.\u001b[39mchisquare(observed)\n\u001b[1;32m     10\u001b[0m \u001b[38;5;28mprint\u001b[39m(\u001b[38;5;124m\"\u001b[39m\u001b[38;5;124mChi-square statistic:\u001b[39m\u001b[38;5;124m\"\u001b[39m, chi2_statistic)\n\u001b[1;32m     11\u001b[0m \u001b[38;5;28mprint\u001b[39m(\u001b[38;5;124m\"\u001b[39m\u001b[38;5;124mp-value:\u001b[39m\u001b[38;5;124m\"\u001b[39m, p_value)\n",
      "\u001b[0;31mValueError\u001b[0m: not enough values to unpack (expected 4, got 2)"
     ]
    }
   ],
   "source": [
    "import scipy.stats as stats\n",
    "design_A = [100, 120, 110, 90, 95]\n",
    "\n",
    "design_B = [80, 85, 90, 95, 100]\n",
    "\n",
    "observed = [design_A, design_B]\n",
    "\n",
    "chi2_statistic, p_value, dof, expected = stats.chisquare(observed)\n",
    "\n",
    "print(\"Chi-square statistic:\", chi2_statistic)\n",
    "print(\"p-value:\", p_value)"
   ]
  },
  {
   "cell_type": "markdown",
   "id": "b7c4dfa3-c43b-4c52-82a1-fba59aa2be62",
   "metadata": {},
   "source": [
    "\n",
    "13. Scenario: A survey is conducted to measure customer satisfaction with a product on a scale of 1 to 10. The data collected is as follows:\n",
    "    [7, 9, 6, 8, 10, 7, 8, 9, 7, 8]\n",
    "    Calculate the 95% confidence interval for the population mean satisfaction score.\n"
   ]
  },
  {
   "cell_type": "code",
   "execution_count": 10,
   "id": "d82ea66e-e802-4492-b75e-814a463f9a05",
   "metadata": {},
   "outputs": [
    {
     "name": "stdout",
     "output_type": "stream",
     "text": [
      "95% Confidence Interval: (7.043561120599888, 8.756438879400113)\n"
     ]
    }
   ],
   "source": [
    "import numpy as np\n",
    "import scipy.stats as stats\n",
    "satisfaction_scores = [7, 9, 6, 8, 10, 7, 8, 9, 7, 8]\n",
    "\n",
    "sample_mean = np.mean(satisfaction_scores)\n",
    "sample_std = np.std(satisfaction_scores, ddof=1)  \n",
    "\n",
    "n = len(satisfaction_scores)\n",
    "\n",
    "standard_error = sample_std / np.sqrt(n)\n",
    "\n",
    "confidence_level = 0.95\n",
    "\n",
    "margin_of_error = stats.t.ppf((1 + confidence_level) / 2, df=n-1) * standard_error\n",
    "\n",
    "confidence_interval = (sample_mean - margin_of_error, sample_mean + margin_of_error)\n",
    "\n",
    "print(\"95% Confidence Interval:\", confidence_interval)"
   ]
  },
  {
   "cell_type": "markdown",
   "id": "f5975219-c1c6-481c-b00e-e7182c167725",
   "metadata": {},
   "source": [
    "14. Scenario: A company wants to analyze the effect of temperature on product performance. The data collected is as follows:\n",
    "    Temperature (in degrees Celsius): [20, 22, 23, 19, 21]\n",
    "    Performance (on a scale of 1 to 10): [8, 7, 9, 6, 8]\n",
    "    Perform a simple linear regression to predict performance based on temperature.\n"
   ]
  },
  {
   "cell_type": "code",
   "execution_count": 11,
   "id": "f1c115f6-1549-42f6-8aff-bbd6c3da4c51",
   "metadata": {},
   "outputs": [
    {
     "name": "stdout",
     "output_type": "stream",
     "text": [
      "Slope (Coefficient): 0.4999999999999999\n",
      "Intercept: -2.8999999999999986\n",
      "Predicted performance: 9.599999999999998\n"
     ]
    }
   ],
   "source": [
    "import numpy as np\n",
    "from sklearn.linear_model import LinearRegression\n",
    "\n",
    "temperature = np.array([20, 22, 23, 19, 21]).reshape(-1, 1)\n",
    "\n",
    "performance = np.array([8, 7, 9, 6, 8])\n",
    "\n",
    "model = LinearRegression()\n",
    "\n",
    "model.fit(temperature, performance)\n",
    "\n",
    "slope = model.coef_[0]\n",
    "intercept = model.intercept_\n",
    "\n",
    "print(\"Slope (Coefficient):\", slope)\n",
    "print(\"Intercept:\", intercept)\n",
    "\n",
    "new_temperature = np.array([[25]])  \n",
    "predicted_performance = model.predict(new_temperature)\n",
    "\n",
    "print(\"Predicted performance:\", predicted_performance[0])"
   ]
  },
  {
   "cell_type": "markdown",
   "id": "85f23ca9-62b3-4ad9-9a55-ece04e11b552",
   "metadata": {},
   "source": [
    "15. Scenario: A study is conducted to compare the preferences of two groups of participants. The preferences are measured on a Likert scale from 1 to 5. The data collected is as follows:\n",
    "    Group A: [4, 3, 5, 2, 4]\n",
    "    Group B: [3, 2, 4, 3, 3]\n",
    "    Perform a Mann-Whitney U test to determine if there is a significant difference in the median preferences between the two groups.\n"
   ]
  },
  {
   "cell_type": "code",
   "execution_count": 12,
   "id": "c5b6720a-e24b-4439-a00c-53b6c85d667f",
   "metadata": {},
   "outputs": [
    {
     "name": "stdout",
     "output_type": "stream",
     "text": [
      "Mann-Whitney U statistic: 17.0\n",
      "p-value: 0.380836480306712\n"
     ]
    }
   ],
   "source": [
    "import scipy.stats as stats\n",
    "group_A = [4, 3, 5, 2, 4]\n",
    "\n",
    "group_B = [3, 2, 4, 3, 3]\n",
    "\n",
    "statistic, p_value = stats.mannwhitneyu(group_A, group_B)\n",
    "\n",
    "print(\"Mann-Whitney U statistic:\", statistic)\n",
    "print(\"p-value:\", p_value)"
   ]
  },
  {
   "cell_type": "markdown",
   "id": "f6591fa7-d216-49a6-944d-4ac02d0f93fd",
   "metadata": {},
   "source": [
    "16. Scenario: A company wants to analyze the distribution of customer ages. The data collected is as follows:\n",
    "    [25, 30, 35, 40, 45, 50, 55, 60, 65, 70]\n",
    "    Calculate the interquartile range (IQR) of the ages\n"
   ]
  },
  {
   "cell_type": "code",
   "execution_count": 13,
   "id": "8a30ac22-032b-4fd9-b8ef-361ca149bb5e",
   "metadata": {},
   "outputs": [
    {
     "name": "stdout",
     "output_type": "stream",
     "text": [
      "Interquartile Range (IQR): 22.5\n"
     ]
    }
   ],
   "source": [
    "import numpy as np\n",
    "\n",
    "ages = [25, 30, 35, 40, 45, 50, 55, 60, 65, 70]\n",
    "\n",
    "# Calculate the 25th and 75th percentiles\n",
    "q1 = np.percentile(ages, 25)\n",
    "q3 = np.percentile(ages, 75)\n",
    "\n",
    "iqr = q3 - q1\n",
    "\n",
    "print(\"Interquartile Range (IQR):\", iqr)"
   ]
  },
  {
   "cell_type": "markdown",
   "id": "0699e0a4-d2fb-41cb-88c3-4740f9eaface",
   "metadata": {},
   "source": [
    "17. Scenario: A study is conducted to compare the performance of three different machine learning algorithms. The accuracy scores for each algorithm are as follows:\n",
    "    Algorithm A: [0.85, 0.80, 0.82, 0.87, 0.83]\n",
    "    Algorithm B: [0.78, 0.82, 0.84, 0.80, 0.79]\n",
    "    Algorithm C: [0.90, 0.88, 0.89, 0.86, 0.87]\n",
    "    Perform a Kruskal-Wallis test to determine if there is a significant difference in the median accuracy scores between the algorithms.\n"
   ]
  },
  {
   "cell_type": "code",
   "execution_count": 14,
   "id": "965e8836-f5fd-4e61-bfc1-340d495573f3",
   "metadata": {},
   "outputs": [
    {
     "name": "stdout",
     "output_type": "stream",
     "text": [
      "Kruskal-Wallis H statistic: 9.696947935368053\n",
      "p-value: 0.007840333026249539\n"
     ]
    }
   ],
   "source": [
    "import scipy.stats as stats\n",
    "algorithm_A = [0.85, 0.80, 0.82, 0.87, 0.83]\n",
    "\n",
    "algorithm_B = [0.78, 0.82, 0.84, 0.80, 0.79]\n",
    "\n",
    "algorithm_C = [0.90, 0.88, 0.89, 0.86, 0.87]\n",
    "\n",
    "h_statistic, p_value = stats.kruskal(algorithm_A, algorithm_B, algorithm_C)\n",
    "\n",
    "print(\"Kruskal-Wallis H statistic:\", h_statistic)\n",
    "print(\"p-value:\", p_value)"
   ]
  },
  {
   "cell_type": "markdown",
   "id": "d888fc9b-e18c-439b-83a5-6426372a6dd4",
   "metadata": {},
   "source": [
    "18. Scenario: A company wants to analyze the effect of price on sales. The data collected is as follows:\n",
    "    Price (in dollars): [10, 15, 12, 8, 14]\n",
    "    Sales: [100, 80, 90, 110, 95]\n",
    "    Perform a simple linear regression to predict\n",
    "\n",
    " sales based on price.\n"
   ]
  },
  {
   "cell_type": "code",
   "execution_count": 15,
   "id": "d88f4553-d3bd-42c4-8d8b-890dd7e333c8",
   "metadata": {},
   "outputs": [
    {
     "name": "stdout",
     "output_type": "stream",
     "text": [
      "Slope (Coefficient): -3.5060975609756095\n",
      "Intercept: 136.3719512195122\n",
      "Predicted sales: 90.79268292682927\n"
     ]
    }
   ],
   "source": [
    "import numpy as np\n",
    "from sklearn.linear_model import LinearRegression\n",
    "\n",
    "price = np.array([10, 15, 12, 8, 14]).reshape(-1, 1)\n",
    "\n",
    "sales = np.array([100, 80, 90, 110, 95])\n",
    "\n",
    "model = LinearRegression()\n",
    "\n",
    "model.fit(price, sales)\n",
    "\n",
    "slope = model.coef_[0]\n",
    "intercept = model.intercept_\n",
    "\n",
    "print(\"Slope (Coefficient):\", slope)\n",
    "print(\"Intercept:\", intercept)\n",
    "\n",
    "new_price = np.array([[13]]) \n",
    "predicted_sales = model.predict(new_price)\n",
    "\n",
    "print(\"Predicted sales:\", predicted_sales[0])"
   ]
  },
  {
   "cell_type": "markdown",
   "id": "29d614bd-4305-4467-9495-d25d159c04ef",
   "metadata": {},
   "source": [
    "19. Scenario: A survey is conducted to measure the satisfaction levels of customers with a new product. The data collected is as follows:\n",
    "    [7, 8, 9, 6, 8, 7, 9, 7, 8, 7]\n",
    "    Calculate the standard error of the mean satisfaction score.\n"
   ]
  },
  {
   "cell_type": "code",
   "execution_count": 20,
   "id": "7877e631-d55f-435f-a450-92eba92b0ad4",
   "metadata": {},
   "outputs": [
    {
     "name": "stdout",
     "output_type": "stream",
     "text": [
      "Standard Error of the Mean: 0.28982753492378877\n"
     ]
    }
   ],
   "source": [
    "import numpy as np\n",
    "\n",
    "satisfaction_score=[7, 8, 9, 6, 8, 7, 9, 7, 8, 7]\n",
    "\n",
    "sample_mean = np.mean(satisfaction_score)\n",
    "\n",
    "sample_std= np.std(satisfaction_score)\n",
    "\n",
    "n=len(satisfaction_score)\n",
    "\n",
    "standard_error=sample_std/np.sqrt(n)\n",
    "\n",
    "print(\"Standard Error of the Mean:\", standard_error)"
   ]
  },
  {
   "cell_type": "markdown",
   "id": "3a379fea-73b2-4773-8c9b-257779e2948c",
   "metadata": {},
   "source": [
    "20. Scenario: A company wants to analyze the relationship between advertising expenditure and sales. The data collected is as follows:\n",
    "    Advertising Expenditure (in thousands): [10, 15, 12, 8, 14]\n",
    "    Sales (in thousands): [25, 30, 28, 20, 26]\n",
    "    Perform a multiple regression analysis to predict sales based on advertising expenditure.\n"
   ]
  },
  {
   "cell_type": "code",
   "execution_count": 21,
   "id": "0138b385-e0e3-4348-a77f-bc5ff33bf829",
   "metadata": {},
   "outputs": [
    {
     "name": "stdout",
     "output_type": "stream",
     "text": [
      "Regression Coefficient(s): [1.15243902]\n",
      "Intercept: 12.20121951219512\n",
      "Predicted sales: 27.182926829268293\n"
     ]
    }
   ],
   "source": [
    "import numpy as np\n",
    "from sklearn.linear_model import LinearRegression\n",
    "\n",
    "advertising_expenditure = np.array([10, 15, 12, 8, 14]).reshape(-1, 1)\n",
    "\n",
    "sales = np.array([25, 30, 28, 20, 26])\n",
    "\n",
    "model = LinearRegression()\n",
    "\n",
    "model.fit(advertising_expenditure, sales)\n",
    "\n",
    "coefficients = model.coef_\n",
    "intercept = model.intercept_\n",
    "\n",
    "print(\"Regression Coefficient(s):\", coefficients)\n",
    "print(\"Intercept:\", intercept)\n",
    "\n",
    "new_advertising_expenditure = np.array([[13]])  \n",
    "predicted_sales = model.predict(new_advertising_expenditure)\n",
    "\n",
    "print(\"Predicted sales:\", predicted_sales[0])"
   ]
  },
  {
   "cell_type": "code",
   "execution_count": null,
   "id": "f0154e0f-b679-407b-aa9b-3f03c03ef837",
   "metadata": {},
   "outputs": [],
   "source": []
  }
 ],
 "metadata": {
  "kernelspec": {
   "display_name": "Python 3 (ipykernel)",
   "language": "python",
   "name": "python3"
  },
  "language_info": {
   "codemirror_mode": {
    "name": "ipython",
    "version": 3
   },
   "file_extension": ".py",
   "mimetype": "text/x-python",
   "name": "python",
   "nbconvert_exporter": "python",
   "pygments_lexer": "ipython3",
   "version": "3.10.8"
  }
 },
 "nbformat": 4,
 "nbformat_minor": 5
}
